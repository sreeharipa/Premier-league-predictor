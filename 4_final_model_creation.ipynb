{
 "cells": [
  {
   "cell_type": "code",
   "execution_count": 1,
   "source": [
    "import numpy as np\r\n",
    "import pandas as pd\r\n"
   ],
   "outputs": [],
   "metadata": {}
  },
  {
   "cell_type": "code",
   "execution_count": 2,
   "source": [
    "pd.options.display.max_columns = None\r\n",
    "pd.options.display.max_rows = None"
   ],
   "outputs": [],
   "metadata": {}
  },
  {
   "cell_type": "code",
   "execution_count": 3,
   "source": [
    "df = pd.read_csv('csvs/premodel.csv')"
   ],
   "outputs": [],
   "metadata": {}
  },
  {
   "cell_type": "code",
   "execution_count": 4,
   "source": [
    "df.head(5)"
   ],
   "outputs": [
    {
     "output_type": "execute_result",
     "data": {
      "text/html": [
       "<div>\n",
       "<style scoped>\n",
       "    .dataframe tbody tr th:only-of-type {\n",
       "        vertical-align: middle;\n",
       "    }\n",
       "\n",
       "    .dataframe tbody tr th {\n",
       "        vertical-align: top;\n",
       "    }\n",
       "\n",
       "    .dataframe thead th {\n",
       "        text-align: right;\n",
       "    }\n",
       "</style>\n",
       "<table border=\"1\" class=\"dataframe\">\n",
       "  <thead>\n",
       "    <tr style=\"text-align: right;\">\n",
       "      <th></th>\n",
       "      <th>Date</th>\n",
       "      <th>HomeTeam</th>\n",
       "      <th>AwayTeam</th>\n",
       "      <th>AvgBH</th>\n",
       "      <th>AvgBD</th>\n",
       "      <th>AvgBA</th>\n",
       "      <th>FTRn</th>\n",
       "      <th>FTR</th>\n",
       "    </tr>\n",
       "  </thead>\n",
       "  <tbody>\n",
       "    <tr>\n",
       "      <th>0</th>\n",
       "      <td>9</td>\n",
       "      <td>Fulham</td>\n",
       "      <td>Arsenal</td>\n",
       "      <td>6.110000</td>\n",
       "      <td>4.231667</td>\n",
       "      <td>1.551667</td>\n",
       "      <td>-3</td>\n",
       "      <td>A</td>\n",
       "    </tr>\n",
       "    <tr>\n",
       "      <th>1</th>\n",
       "      <td>9</td>\n",
       "      <td>Crystal Palace</td>\n",
       "      <td>Southampton</td>\n",
       "      <td>3.161667</td>\n",
       "      <td>3.181667</td>\n",
       "      <td>2.395000</td>\n",
       "      <td>1</td>\n",
       "      <td>H</td>\n",
       "    </tr>\n",
       "    <tr>\n",
       "      <th>2</th>\n",
       "      <td>9</td>\n",
       "      <td>Liverpool</td>\n",
       "      <td>Leeds</td>\n",
       "      <td>1.295000</td>\n",
       "      <td>5.875000</td>\n",
       "      <td>9.820000</td>\n",
       "      <td>1</td>\n",
       "      <td>H</td>\n",
       "    </tr>\n",
       "    <tr>\n",
       "      <th>3</th>\n",
       "      <td>9</td>\n",
       "      <td>West Ham</td>\n",
       "      <td>Newcastle</td>\n",
       "      <td>2.155000</td>\n",
       "      <td>3.410000</td>\n",
       "      <td>3.450000</td>\n",
       "      <td>-2</td>\n",
       "      <td>A</td>\n",
       "    </tr>\n",
       "    <tr>\n",
       "      <th>4</th>\n",
       "      <td>9</td>\n",
       "      <td>West Brom</td>\n",
       "      <td>Leicester</td>\n",
       "      <td>3.858333</td>\n",
       "      <td>3.515000</td>\n",
       "      <td>1.975000</td>\n",
       "      <td>-3</td>\n",
       "      <td>A</td>\n",
       "    </tr>\n",
       "  </tbody>\n",
       "</table>\n",
       "</div>"
      ],
      "text/plain": [
       "   Date        HomeTeam     AwayTeam     AvgBH     AvgBD     AvgBA  FTRn FTR\n",
       "0     9          Fulham      Arsenal  6.110000  4.231667  1.551667    -3   A\n",
       "1     9  Crystal Palace  Southampton  3.161667  3.181667  2.395000     1   H\n",
       "2     9       Liverpool        Leeds  1.295000  5.875000  9.820000     1   H\n",
       "3     9        West Ham    Newcastle  2.155000  3.410000  3.450000    -2   A\n",
       "4     9       West Brom    Leicester  3.858333  3.515000  1.975000    -3   A"
      ]
     },
     "metadata": {},
     "execution_count": 4
    }
   ],
   "metadata": {}
  },
  {
   "cell_type": "code",
   "execution_count": 5,
   "source": [
    "y = df['FTRn']\r\n",
    "x = df.drop(['FTRn', 'FTR'], axis = 1)"
   ],
   "outputs": [],
   "metadata": {}
  },
  {
   "cell_type": "code",
   "execution_count": 6,
   "source": [
    "dummy = pd.get_dummies(df['HomeTeam'])\r\n",
    "x = pd.concat([x, dummy], axis = 1)\r\n",
    "dummy = pd.get_dummies(df['AwayTeam'])\r\n",
    "x = pd.concat([x, dummy], axis = 1)"
   ],
   "outputs": [],
   "metadata": {}
  },
  {
   "cell_type": "code",
   "execution_count": 7,
   "source": [
    "x.drop(['HomeTeam', 'AwayTeam'], axis = 1, inplace = True)"
   ],
   "outputs": [],
   "metadata": {}
  },
  {
   "cell_type": "code",
   "execution_count": 8,
   "source": [
    "x.columns"
   ],
   "outputs": [
    {
     "output_type": "execute_result",
     "data": {
      "text/plain": [
       "Index(['Date', 'AvgBH', 'AvgBD', 'AvgBA', 'Arsenal', 'Aston Villa',\n",
       "       'Bournemouth', 'Brighton', 'Burnley', 'Cardiff', 'Chelsea',\n",
       "       'Crystal Palace', 'Everton', 'Fulham', 'Huddersfield', 'Leeds',\n",
       "       'Leicester', 'Liverpool', 'Man City', 'Man United', 'Newcastle',\n",
       "       'Norwich', 'Sheffield United', 'Southampton', 'Stoke', 'Swansea',\n",
       "       'Tottenham', 'Watford', 'West Brom', 'West Ham', 'Wolves', 'Arsenal',\n",
       "       'Aston Villa', 'Bournemouth', 'Brighton', 'Burnley', 'Cardiff',\n",
       "       'Chelsea', 'Crystal Palace', 'Everton', 'Fulham', 'Huddersfield',\n",
       "       'Leeds', 'Leicester', 'Liverpool', 'Man City', 'Man United',\n",
       "       'Newcastle', 'Norwich', 'Sheffield United', 'Southampton', 'Stoke',\n",
       "       'Swansea', 'Tottenham', 'Watford', 'West Brom', 'West Ham', 'Wolves'],\n",
       "      dtype='object')"
      ]
     },
     "metadata": {},
     "execution_count": 8
    }
   ],
   "metadata": {}
  },
  {
   "cell_type": "code",
   "execution_count": 9,
   "source": [
    "from sklearn.svm import SVR\r\n"
   ],
   "outputs": [],
   "metadata": {}
  },
  {
   "cell_type": "code",
   "execution_count": 10,
   "source": [
    "svr_model = SVR()"
   ],
   "outputs": [],
   "metadata": {}
  },
  {
   "cell_type": "code",
   "execution_count": 11,
   "source": [
    "svr_model.fit(x, y)"
   ],
   "outputs": [
    {
     "output_type": "stream",
     "name": "stderr",
     "text": [
      "C:\\Users\\dead_phoenix\\AppData\\Local\\Programs\\Python\\Python37-32\\lib\\site-packages\\sklearn\\svm\\base.py:196: FutureWarning: The default value of gamma will change from 'auto' to 'scale' in version 0.22 to account better for unscaled features. Set gamma explicitly to 'auto' or 'scale' to avoid this warning.\n",
      "  \"avoid this warning.\", FutureWarning)\n"
     ]
    },
    {
     "output_type": "execute_result",
     "data": {
      "text/plain": [
       "SVR(C=1.0, cache_size=200, coef0=0.0, degree=3, epsilon=0.1,\n",
       "  gamma='auto_deprecated', kernel='rbf', max_iter=-1, shrinking=True,\n",
       "  tol=0.001, verbose=False)"
      ]
     },
     "metadata": {},
     "execution_count": 11
    }
   ],
   "metadata": {}
  },
  {
   "cell_type": "code",
   "execution_count": 12,
   "source": [
    "y_pred_svr = svr_model.predict(x)"
   ],
   "outputs": [],
   "metadata": {}
  },
  {
   "cell_type": "code",
   "execution_count": 13,
   "source": [
    "df['SVR FTRn'] = y_pred_svr"
   ],
   "outputs": [],
   "metadata": {}
  },
  {
   "cell_type": "code",
   "execution_count": 14,
   "source": [
    "from sklearn.linear_model import ElasticNet\r\n"
   ],
   "outputs": [],
   "metadata": {}
  },
  {
   "cell_type": "code",
   "execution_count": 15,
   "source": [
    "en_model = ElasticNet()"
   ],
   "outputs": [],
   "metadata": {}
  },
  {
   "cell_type": "code",
   "execution_count": 16,
   "source": [
    "en_model.fit(x, y)"
   ],
   "outputs": [
    {
     "output_type": "execute_result",
     "data": {
      "text/plain": [
       "ElasticNet(alpha=1.0, copy_X=True, fit_intercept=True, l1_ratio=0.5,\n",
       "      max_iter=1000, normalize=False, positive=False, precompute=False,\n",
       "      random_state=None, selection='cyclic', tol=0.0001, warm_start=False)"
      ]
     },
     "metadata": {},
     "execution_count": 16
    }
   ],
   "metadata": {}
  },
  {
   "cell_type": "code",
   "execution_count": 17,
   "source": [
    "y_pred_en = en_model.predict(x)"
   ],
   "outputs": [],
   "metadata": {}
  },
  {
   "cell_type": "code",
   "execution_count": 18,
   "source": [
    "df['ElasticNet FTRn'] = y_pred_en"
   ],
   "outputs": [],
   "metadata": {}
  },
  {
   "cell_type": "code",
   "execution_count": 19,
   "source": [
    "df.sample(10)"
   ],
   "outputs": [
    {
     "output_type": "execute_result",
     "data": {
      "text/html": [
       "<div>\n",
       "<style scoped>\n",
       "    .dataframe tbody tr th:only-of-type {\n",
       "        vertical-align: middle;\n",
       "    }\n",
       "\n",
       "    .dataframe tbody tr th {\n",
       "        vertical-align: top;\n",
       "    }\n",
       "\n",
       "    .dataframe thead th {\n",
       "        text-align: right;\n",
       "    }\n",
       "</style>\n",
       "<table border=\"1\" class=\"dataframe\">\n",
       "  <thead>\n",
       "    <tr style=\"text-align: right;\">\n",
       "      <th></th>\n",
       "      <th>Date</th>\n",
       "      <th>HomeTeam</th>\n",
       "      <th>AwayTeam</th>\n",
       "      <th>AvgBH</th>\n",
       "      <th>AvgBD</th>\n",
       "      <th>AvgBA</th>\n",
       "      <th>FTRn</th>\n",
       "      <th>FTR</th>\n",
       "      <th>SVR FTRn</th>\n",
       "      <th>ElasticNet FTRn</th>\n",
       "    </tr>\n",
       "  </thead>\n",
       "  <tbody>\n",
       "    <tr>\n",
       "      <th>535</th>\n",
       "      <td>12</td>\n",
       "      <td>Aston Villa</td>\n",
       "      <td>Leicester</td>\n",
       "      <td>4.285000</td>\n",
       "      <td>3.878333</td>\n",
       "      <td>1.803333</td>\n",
       "      <td>-3</td>\n",
       "      <td>A</td>\n",
       "      <td>-0.587497</td>\n",
       "      <td>-0.259145</td>\n",
       "    </tr>\n",
       "    <tr>\n",
       "      <th>313</th>\n",
       "      <td>4</td>\n",
       "      <td>Arsenal</td>\n",
       "      <td>Fulham</td>\n",
       "      <td>1.740000</td>\n",
       "      <td>3.683333</td>\n",
       "      <td>4.980000</td>\n",
       "      <td>0</td>\n",
       "      <td>D</td>\n",
       "      <td>1.023281</td>\n",
       "      <td>0.407408</td>\n",
       "    </tr>\n",
       "    <tr>\n",
       "      <th>442</th>\n",
       "      <td>9</td>\n",
       "      <td>Bournemouth</td>\n",
       "      <td>West Ham</td>\n",
       "      <td>2.465000</td>\n",
       "      <td>3.570000</td>\n",
       "      <td>2.776667</td>\n",
       "      <td>0</td>\n",
       "      <td>D</td>\n",
       "      <td>-0.096840</td>\n",
       "      <td>0.062260</td>\n",
       "    </tr>\n",
       "    <tr>\n",
       "      <th>28</th>\n",
       "      <td>10</td>\n",
       "      <td>Chelsea</td>\n",
       "      <td>Crystal Palace</td>\n",
       "      <td>1.423333</td>\n",
       "      <td>4.701667</td>\n",
       "      <td>7.673333</td>\n",
       "      <td>4</td>\n",
       "      <td>H</td>\n",
       "      <td>1.198763</td>\n",
       "      <td>0.765155</td>\n",
       "    </tr>\n",
       "    <tr>\n",
       "      <th>13</th>\n",
       "      <td>9</td>\n",
       "      <td>Newcastle</td>\n",
       "      <td>Brighton</td>\n",
       "      <td>2.665000</td>\n",
       "      <td>3.103333</td>\n",
       "      <td>2.835000</td>\n",
       "      <td>-3</td>\n",
       "      <td>A</td>\n",
       "      <td>-0.136560</td>\n",
       "      <td>0.046707</td>\n",
       "    </tr>\n",
       "    <tr>\n",
       "      <th>1119</th>\n",
       "      <td>4</td>\n",
       "      <td>Man United</td>\n",
       "      <td>Chelsea</td>\n",
       "      <td>2.663333</td>\n",
       "      <td>3.438333</td>\n",
       "      <td>2.695000</td>\n",
       "      <td>0</td>\n",
       "      <td>D</td>\n",
       "      <td>0.050194</td>\n",
       "      <td>0.030153</td>\n",
       "    </tr>\n",
       "    <tr>\n",
       "      <th>628</th>\n",
       "      <td>2</td>\n",
       "      <td>Burnley</td>\n",
       "      <td>Arsenal</td>\n",
       "      <td>3.745000</td>\n",
       "      <td>3.520000</td>\n",
       "      <td>2.015000</td>\n",
       "      <td>0</td>\n",
       "      <td>D</td>\n",
       "      <td>-0.083972</td>\n",
       "      <td>-0.173006</td>\n",
       "    </tr>\n",
       "    <tr>\n",
       "      <th>1274</th>\n",
       "      <td>11</td>\n",
       "      <td>Arsenal</td>\n",
       "      <td>Huddersfield</td>\n",
       "      <td>1.200000</td>\n",
       "      <td>7.038333</td>\n",
       "      <td>16.238333</td>\n",
       "      <td>5</td>\n",
       "      <td>H</td>\n",
       "      <td>1.887216</td>\n",
       "      <td>1.814542</td>\n",
       "    </tr>\n",
       "    <tr>\n",
       "      <th>793</th>\n",
       "      <td>9</td>\n",
       "      <td>Everton</td>\n",
       "      <td>Huddersfield</td>\n",
       "      <td>1.526667</td>\n",
       "      <td>4.083333</td>\n",
       "      <td>7.260000</td>\n",
       "      <td>0</td>\n",
       "      <td>D</td>\n",
       "      <td>1.229302</td>\n",
       "      <td>0.704088</td>\n",
       "    </tr>\n",
       "    <tr>\n",
       "      <th>170</th>\n",
       "      <td>1</td>\n",
       "      <td>Wolves</td>\n",
       "      <td>West Brom</td>\n",
       "      <td>1.605000</td>\n",
       "      <td>3.616667</td>\n",
       "      <td>6.753333</td>\n",
       "      <td>-1</td>\n",
       "      <td>A</td>\n",
       "      <td>1.037459</td>\n",
       "      <td>0.634675</td>\n",
       "    </tr>\n",
       "  </tbody>\n",
       "</table>\n",
       "</div>"
      ],
      "text/plain": [
       "      Date     HomeTeam        AwayTeam     AvgBH     AvgBD      AvgBA  FTRn  \\\n",
       "535     12  Aston Villa       Leicester  4.285000  3.878333   1.803333    -3   \n",
       "313      4      Arsenal          Fulham  1.740000  3.683333   4.980000     0   \n",
       "442      9  Bournemouth        West Ham  2.465000  3.570000   2.776667     0   \n",
       "28      10      Chelsea  Crystal Palace  1.423333  4.701667   7.673333     4   \n",
       "13       9    Newcastle        Brighton  2.665000  3.103333   2.835000    -3   \n",
       "1119     4   Man United         Chelsea  2.663333  3.438333   2.695000     0   \n",
       "628      2      Burnley         Arsenal  3.745000  3.520000   2.015000     0   \n",
       "1274    11      Arsenal    Huddersfield  1.200000  7.038333  16.238333     5   \n",
       "793      9      Everton    Huddersfield  1.526667  4.083333   7.260000     0   \n",
       "170      1       Wolves       West Brom  1.605000  3.616667   6.753333    -1   \n",
       "\n",
       "     FTR  SVR FTRn  ElasticNet FTRn  \n",
       "535    A -0.587497        -0.259145  \n",
       "313    D  1.023281         0.407408  \n",
       "442    D -0.096840         0.062260  \n",
       "28     H  1.198763         0.765155  \n",
       "13     A -0.136560         0.046707  \n",
       "1119   D  0.050194         0.030153  \n",
       "628    D -0.083972        -0.173006  \n",
       "1274   H  1.887216         1.814542  \n",
       "793    D  1.229302         0.704088  \n",
       "170    A  1.037459         0.634675  "
      ]
     },
     "metadata": {},
     "execution_count": 19
    }
   ],
   "metadata": {}
  },
  {
   "cell_type": "code",
   "execution_count": 20,
   "source": [
    "from sklearn.externals import joblib\r\n"
   ],
   "outputs": [],
   "metadata": {}
  },
  {
   "cell_type": "code",
   "execution_count": 21,
   "source": [
    "joblib.dump(svr_model, 'models/svr_model.pkl')\r\n",
    "joblib.dump(en_model, 'models/en_model.pkl')\r\n",
    "\r\n"
   ],
   "outputs": [
    {
     "output_type": "execute_result",
     "data": {
      "text/plain": [
       "['models/en_model.pkl']"
      ]
     },
     "metadata": {},
     "execution_count": 21
    }
   ],
   "metadata": {}
  },
  {
   "cell_type": "code",
   "execution_count": null,
   "source": [],
   "outputs": [],
   "metadata": {}
  }
 ],
 "metadata": {
  "orig_nbformat": 4,
  "language_info": {
   "name": "python",
   "version": "3.7.0",
   "mimetype": "text/x-python",
   "codemirror_mode": {
    "name": "ipython",
    "version": 3
   },
   "pygments_lexer": "ipython3",
   "nbconvert_exporter": "python",
   "file_extension": ".py"
  },
  "kernelspec": {
   "name": "python3",
   "display_name": "Python 3.7.0 32-bit"
  },
  "interpreter": {
   "hash": "a9f0e5242b76620d354f2acae913d66ded7e850a66e3cb2e130e3aa882d33a20"
  }
 },
 "nbformat": 4,
 "nbformat_minor": 2
}