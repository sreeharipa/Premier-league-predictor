{
 "cells": [
  {
   "cell_type": "code",
   "execution_count": 1,
   "metadata": {},
   "outputs": [],
   "source": [
    "import numpy as np\n",
    "import pandas as pd\n"
   ]
  },
  {
   "cell_type": "code",
   "execution_count": 2,
   "metadata": {},
   "outputs": [],
   "source": [
    "pd.options.display.max_columns = None\n",
    "pd.options.display.max_rows = None"
   ]
  },
  {
   "cell_type": "code",
   "execution_count": 3,
   "metadata": {},
   "outputs": [],
   "source": [
    "df = pd.read_csv('csvs/premodel.csv')"
   ]
  },
  {
   "cell_type": "code",
   "execution_count": 4,
   "metadata": {},
   "outputs": [
    {
     "data": {
      "text/html": [
       "<div>\n",
       "<style scoped>\n",
       "    .dataframe tbody tr th:only-of-type {\n",
       "        vertical-align: middle;\n",
       "    }\n",
       "\n",
       "    .dataframe tbody tr th {\n",
       "        vertical-align: top;\n",
       "    }\n",
       "\n",
       "    .dataframe thead th {\n",
       "        text-align: right;\n",
       "    }\n",
       "</style>\n",
       "<table border=\"1\" class=\"dataframe\">\n",
       "  <thead>\n",
       "    <tr style=\"text-align: right;\">\n",
       "      <th></th>\n",
       "      <th>Date</th>\n",
       "      <th>HomeTeam</th>\n",
       "      <th>AwayTeam</th>\n",
       "      <th>AvgBH</th>\n",
       "      <th>AvgBD</th>\n",
       "      <th>AvgBA</th>\n",
       "      <th>FTRn</th>\n",
       "      <th>FTR</th>\n",
       "    </tr>\n",
       "  </thead>\n",
       "  <tbody>\n",
       "    <tr>\n",
       "      <th>0</th>\n",
       "      <td>9</td>\n",
       "      <td>Fulham</td>\n",
       "      <td>Arsenal</td>\n",
       "      <td>6.110000</td>\n",
       "      <td>4.231667</td>\n",
       "      <td>1.551667</td>\n",
       "      <td>-3</td>\n",
       "      <td>A</td>\n",
       "    </tr>\n",
       "    <tr>\n",
       "      <th>1</th>\n",
       "      <td>9</td>\n",
       "      <td>Crystal Palace</td>\n",
       "      <td>Southampton</td>\n",
       "      <td>3.161667</td>\n",
       "      <td>3.181667</td>\n",
       "      <td>2.395000</td>\n",
       "      <td>1</td>\n",
       "      <td>H</td>\n",
       "    </tr>\n",
       "    <tr>\n",
       "      <th>2</th>\n",
       "      <td>9</td>\n",
       "      <td>Liverpool</td>\n",
       "      <td>Leeds</td>\n",
       "      <td>1.295000</td>\n",
       "      <td>5.875000</td>\n",
       "      <td>9.820000</td>\n",
       "      <td>1</td>\n",
       "      <td>H</td>\n",
       "    </tr>\n",
       "    <tr>\n",
       "      <th>3</th>\n",
       "      <td>9</td>\n",
       "      <td>West Ham</td>\n",
       "      <td>Newcastle</td>\n",
       "      <td>2.155000</td>\n",
       "      <td>3.410000</td>\n",
       "      <td>3.450000</td>\n",
       "      <td>-2</td>\n",
       "      <td>A</td>\n",
       "    </tr>\n",
       "    <tr>\n",
       "      <th>4</th>\n",
       "      <td>9</td>\n",
       "      <td>West Brom</td>\n",
       "      <td>Leicester</td>\n",
       "      <td>3.858333</td>\n",
       "      <td>3.515000</td>\n",
       "      <td>1.975000</td>\n",
       "      <td>-3</td>\n",
       "      <td>A</td>\n",
       "    </tr>\n",
       "  </tbody>\n",
       "</table>\n",
       "</div>"
      ],
      "text/plain": [
       "   Date        HomeTeam     AwayTeam     AvgBH     AvgBD     AvgBA  FTRn FTR\n",
       "0     9          Fulham      Arsenal  6.110000  4.231667  1.551667    -3   A\n",
       "1     9  Crystal Palace  Southampton  3.161667  3.181667  2.395000     1   H\n",
       "2     9       Liverpool        Leeds  1.295000  5.875000  9.820000     1   H\n",
       "3     9        West Ham    Newcastle  2.155000  3.410000  3.450000    -2   A\n",
       "4     9       West Brom    Leicester  3.858333  3.515000  1.975000    -3   A"
      ]
     },
     "execution_count": 4,
     "metadata": {},
     "output_type": "execute_result"
    }
   ],
   "source": [
    "df.head(5)"
   ]
  },
  {
   "cell_type": "code",
   "execution_count": 5,
   "metadata": {},
   "outputs": [],
   "source": [
    "y = df['FTRn']\n",
    "x = df.drop(['FTRn', 'FTR'], axis = 1)"
   ]
  },
  {
   "cell_type": "code",
   "execution_count": 6,
   "metadata": {},
   "outputs": [],
   "source": [
    "dummy = pd.get_dummies(df['HomeTeam'])\n",
    "x = pd.concat([x, dummy], axis = 1)\n",
    "dummy = pd.get_dummies(df['AwayTeam'])\n",
    "x = pd.concat([x, dummy], axis = 1)"
   ]
  },
  {
   "cell_type": "code",
   "execution_count": 7,
   "metadata": {},
   "outputs": [],
   "source": [
    "x.drop(['HomeTeam', 'AwayTeam'], axis = 1, inplace = True)"
   ]
  },
  {
   "cell_type": "code",
   "execution_count": 8,
   "metadata": {},
   "outputs": [
    {
     "data": {
      "text/plain": [
       "Index(['Date', 'AvgBH', 'AvgBD', 'AvgBA', 'Arsenal', 'Aston Villa',\n",
       "       'Bournemouth', 'Brighton', 'Burnley', 'Cardiff', 'Chelsea',\n",
       "       'Crystal Palace', 'Everton', 'Fulham', 'Huddersfield', 'Leeds',\n",
       "       'Leicester', 'Liverpool', 'Man City', 'Man United', 'Newcastle',\n",
       "       'Norwich', 'Sheffield United', 'Southampton', 'Stoke', 'Swansea',\n",
       "       'Tottenham', 'Watford', 'West Brom', 'West Ham', 'Wolves', 'Arsenal',\n",
       "       'Aston Villa', 'Bournemouth', 'Brighton', 'Burnley', 'Cardiff',\n",
       "       'Chelsea', 'Crystal Palace', 'Everton', 'Fulham', 'Huddersfield',\n",
       "       'Leeds', 'Leicester', 'Liverpool', 'Man City', 'Man United',\n",
       "       'Newcastle', 'Norwich', 'Sheffield United', 'Southampton', 'Stoke',\n",
       "       'Swansea', 'Tottenham', 'Watford', 'West Brom', 'West Ham', 'Wolves'],\n",
       "      dtype='object')"
      ]
     },
     "execution_count": 8,
     "metadata": {},
     "output_type": "execute_result"
    }
   ],
   "source": [
    "x.columns"
   ]
  },
  {
   "cell_type": "code",
   "execution_count": 9,
   "metadata": {},
   "outputs": [],
   "source": [
    "from sklearn.svm import SVR\n"
   ]
  },
  {
   "cell_type": "code",
   "execution_count": 10,
   "metadata": {},
   "outputs": [],
   "source": [
    "svr_model = SVR()"
   ]
  },
  {
   "cell_type": "code",
   "execution_count": 11,
   "metadata": {},
   "outputs": [
    {
     "data": {
      "text/plain": [
       "SVR()"
      ]
     },
     "execution_count": 11,
     "metadata": {},
     "output_type": "execute_result"
    }
   ],
   "source": [
    "svr_model.fit(x, y)"
   ]
  },
  {
   "cell_type": "code",
   "execution_count": 12,
   "metadata": {},
   "outputs": [],
   "source": [
    "y_pred_svr = svr_model.predict(x)"
   ]
  },
  {
   "cell_type": "code",
   "execution_count": 13,
   "metadata": {},
   "outputs": [],
   "source": [
    "df['SVR FTRn'] = y_pred_svr"
   ]
  },
  {
   "cell_type": "code",
   "execution_count": 14,
   "metadata": {},
   "outputs": [],
   "source": [
    "from sklearn.linear_model import ElasticNet\n"
   ]
  },
  {
   "cell_type": "code",
   "execution_count": 15,
   "metadata": {},
   "outputs": [],
   "source": [
    "en_model = ElasticNet()"
   ]
  },
  {
   "cell_type": "code",
   "execution_count": 16,
   "metadata": {},
   "outputs": [
    {
     "data": {
      "text/plain": [
       "ElasticNet()"
      ]
     },
     "execution_count": 16,
     "metadata": {},
     "output_type": "execute_result"
    }
   ],
   "source": [
    "en_model.fit(x, y)"
   ]
  },
  {
   "cell_type": "code",
   "execution_count": 17,
   "metadata": {},
   "outputs": [],
   "source": [
    "y_pred_en = en_model.predict(x)"
   ]
  },
  {
   "cell_type": "code",
   "execution_count": 18,
   "metadata": {},
   "outputs": [],
   "source": [
    "df['ElasticNet FTRn'] = y_pred_en"
   ]
  },
  {
   "cell_type": "code",
   "execution_count": 19,
   "metadata": {},
   "outputs": [
    {
     "data": {
      "text/html": [
       "<div>\n",
       "<style scoped>\n",
       "    .dataframe tbody tr th:only-of-type {\n",
       "        vertical-align: middle;\n",
       "    }\n",
       "\n",
       "    .dataframe tbody tr th {\n",
       "        vertical-align: top;\n",
       "    }\n",
       "\n",
       "    .dataframe thead th {\n",
       "        text-align: right;\n",
       "    }\n",
       "</style>\n",
       "<table border=\"1\" class=\"dataframe\">\n",
       "  <thead>\n",
       "    <tr style=\"text-align: right;\">\n",
       "      <th></th>\n",
       "      <th>Date</th>\n",
       "      <th>HomeTeam</th>\n",
       "      <th>AwayTeam</th>\n",
       "      <th>AvgBH</th>\n",
       "      <th>AvgBD</th>\n",
       "      <th>AvgBA</th>\n",
       "      <th>FTRn</th>\n",
       "      <th>FTR</th>\n",
       "      <th>SVR FTRn</th>\n",
       "      <th>ElasticNet FTRn</th>\n",
       "    </tr>\n",
       "  </thead>\n",
       "  <tbody>\n",
       "    <tr>\n",
       "      <th>1299</th>\n",
       "      <td>12</td>\n",
       "      <td>Southampton</td>\n",
       "      <td>Arsenal</td>\n",
       "      <td>3.908333</td>\n",
       "      <td>3.640000</td>\n",
       "      <td>1.955000</td>\n",
       "      <td>0</td>\n",
       "      <td>D</td>\n",
       "      <td>-0.387170</td>\n",
       "      <td>-0.198579</td>\n",
       "    </tr>\n",
       "    <tr>\n",
       "      <th>1484</th>\n",
       "      <td>4</td>\n",
       "      <td>Burnley</td>\n",
       "      <td>Brighton</td>\n",
       "      <td>2.205000</td>\n",
       "      <td>3.166667</td>\n",
       "      <td>3.735000</td>\n",
       "      <td>0</td>\n",
       "      <td>D</td>\n",
       "      <td>0.301228</td>\n",
       "      <td>0.206148</td>\n",
       "    </tr>\n",
       "    <tr>\n",
       "      <th>1202</th>\n",
       "      <td>9</td>\n",
       "      <td>Huddersfield</td>\n",
       "      <td>Tottenham</td>\n",
       "      <td>8.340000</td>\n",
       "      <td>4.716667</td>\n",
       "      <td>1.395000</td>\n",
       "      <td>-4</td>\n",
       "      <td>A</td>\n",
       "      <td>-1.429597</td>\n",
       "      <td>-0.764743</td>\n",
       "    </tr>\n",
       "    <tr>\n",
       "      <th>552</th>\n",
       "      <td>12</td>\n",
       "      <td>Bournemouth</td>\n",
       "      <td>Burnley</td>\n",
       "      <td>2.425000</td>\n",
       "      <td>3.385000</td>\n",
       "      <td>2.951667</td>\n",
       "      <td>-1</td>\n",
       "      <td>A</td>\n",
       "      <td>0.041644</td>\n",
       "      <td>0.087693</td>\n",
       "    </tr>\n",
       "    <tr>\n",
       "      <th>1142</th>\n",
       "      <td>8</td>\n",
       "      <td>Chelsea</td>\n",
       "      <td>Burnley</td>\n",
       "      <td>1.241667</td>\n",
       "      <td>6.208333</td>\n",
       "      <td>14.041667</td>\n",
       "      <td>-1</td>\n",
       "      <td>A</td>\n",
       "      <td>1.672295</td>\n",
       "      <td>1.547164</td>\n",
       "    </tr>\n",
       "    <tr>\n",
       "      <th>1009</th>\n",
       "      <td>2</td>\n",
       "      <td>West Ham</td>\n",
       "      <td>Liverpool</td>\n",
       "      <td>7.878333</td>\n",
       "      <td>5.136667</td>\n",
       "      <td>1.385000</td>\n",
       "      <td>0</td>\n",
       "      <td>D</td>\n",
       "      <td>-0.985717</td>\n",
       "      <td>-0.713935</td>\n",
       "    </tr>\n",
       "    <tr>\n",
       "      <th>416</th>\n",
       "      <td>8</td>\n",
       "      <td>West Ham</td>\n",
       "      <td>Norwich</td>\n",
       "      <td>1.881667</td>\n",
       "      <td>3.896667</td>\n",
       "      <td>3.931667</td>\n",
       "      <td>2</td>\n",
       "      <td>H</td>\n",
       "      <td>0.482508</td>\n",
       "      <td>0.266087</td>\n",
       "    </tr>\n",
       "    <tr>\n",
       "      <th>99</th>\n",
       "      <td>12</td>\n",
       "      <td>Man City</td>\n",
       "      <td>Fulham</td>\n",
       "      <td>1.111667</td>\n",
       "      <td>9.871667</td>\n",
       "      <td>21.771667</td>\n",
       "      <td>2</td>\n",
       "      <td>H</td>\n",
       "      <td>2.100402</td>\n",
       "      <td>2.486185</td>\n",
       "    </tr>\n",
       "    <tr>\n",
       "      <th>1127</th>\n",
       "      <td>5</td>\n",
       "      <td>Chelsea</td>\n",
       "      <td>Watford</td>\n",
       "      <td>1.395000</td>\n",
       "      <td>4.981667</td>\n",
       "      <td>8.296667</td>\n",
       "      <td>3</td>\n",
       "      <td>H</td>\n",
       "      <td>1.526316</td>\n",
       "      <td>0.842887</td>\n",
       "    </tr>\n",
       "    <tr>\n",
       "      <th>1399</th>\n",
       "      <td>2</td>\n",
       "      <td>Watford</td>\n",
       "      <td>Chelsea</td>\n",
       "      <td>5.983333</td>\n",
       "      <td>4.008333</td>\n",
       "      <td>1.610000</td>\n",
       "      <td>3</td>\n",
       "      <td>H</td>\n",
       "      <td>-0.728507</td>\n",
       "      <td>-0.473570</td>\n",
       "    </tr>\n",
       "  </tbody>\n",
       "</table>\n",
       "</div>"
      ],
      "text/plain": [
       "      Date      HomeTeam   AwayTeam     AvgBH     AvgBD      AvgBA  FTRn FTR  \\\n",
       "1299    12   Southampton    Arsenal  3.908333  3.640000   1.955000     0   D   \n",
       "1484     4       Burnley   Brighton  2.205000  3.166667   3.735000     0   D   \n",
       "1202     9  Huddersfield  Tottenham  8.340000  4.716667   1.395000    -4   A   \n",
       "552     12   Bournemouth    Burnley  2.425000  3.385000   2.951667    -1   A   \n",
       "1142     8       Chelsea    Burnley  1.241667  6.208333  14.041667    -1   A   \n",
       "1009     2      West Ham  Liverpool  7.878333  5.136667   1.385000     0   D   \n",
       "416      8      West Ham    Norwich  1.881667  3.896667   3.931667     2   H   \n",
       "99      12      Man City     Fulham  1.111667  9.871667  21.771667     2   H   \n",
       "1127     5       Chelsea    Watford  1.395000  4.981667   8.296667     3   H   \n",
       "1399     2       Watford    Chelsea  5.983333  4.008333   1.610000     3   H   \n",
       "\n",
       "      SVR FTRn  ElasticNet FTRn  \n",
       "1299 -0.387170        -0.198579  \n",
       "1484  0.301228         0.206148  \n",
       "1202 -1.429597        -0.764743  \n",
       "552   0.041644         0.087693  \n",
       "1142  1.672295         1.547164  \n",
       "1009 -0.985717        -0.713935  \n",
       "416   0.482508         0.266087  \n",
       "99    2.100402         2.486185  \n",
       "1127  1.526316         0.842887  \n",
       "1399 -0.728507        -0.473570  "
      ]
     },
     "execution_count": 19,
     "metadata": {},
     "output_type": "execute_result"
    }
   ],
   "source": [
    "df.sample(10)"
   ]
  },
  {
   "cell_type": "code",
   "execution_count": 21,
   "metadata": {},
   "outputs": [],
   "source": [
    "import joblib"
   ]
  },
  {
   "cell_type": "code",
   "execution_count": 22,
   "metadata": {},
   "outputs": [],
   "source": [
    "import os\n",
    "if os.path.exists(\"models/svr_model.pkl\"):\n",
    "    os.remove(\"models/svr_model.pkl\")\n",
    "else:\n",
    "    print(\"The file does not exist\")\n",
    "\n",
    "if os.path.exists(\"models/en_model.pkl\"):\n",
    "    os.remove(\"models/en_model.pkl\")\n",
    "else:\n",
    "    print(\"The file does not exist\")\n"
   ]
  },
  {
   "cell_type": "code",
   "execution_count": 23,
   "metadata": {},
   "outputs": [
    {
     "data": {
      "text/plain": [
       "['models/en_model.pkl']"
      ]
     },
     "execution_count": 23,
     "metadata": {},
     "output_type": "execute_result"
    }
   ],
   "source": [
    "joblib.dump(svr_model, 'models/svr_model.pkl')\n",
    "joblib.dump(en_model, 'models/en_model.pkl')\n",
    "\n"
   ]
  },
  {
   "cell_type": "code",
   "execution_count": null,
   "metadata": {},
   "outputs": [],
   "source": []
  }
 ],
 "metadata": {
  "interpreter": {
   "hash": "a9f0e5242b76620d354f2acae913d66ded7e850a66e3cb2e130e3aa882d33a20"
  },
  "kernelspec": {
   "display_name": "Python 3.7.0 32-bit",
   "name": "python3"
  },
  "language_info": {
   "codemirror_mode": {
    "name": "ipython",
    "version": 3
   },
   "file_extension": ".py",
   "mimetype": "text/x-python",
   "name": "python",
   "nbconvert_exporter": "python",
   "pygments_lexer": "ipython3",
   "version": "3.7.0"
  },
  "orig_nbformat": 4
 },
 "nbformat": 4,
 "nbformat_minor": 2
}
